{
  "nbformat": 4,
  "nbformat_minor": 0,
  "metadata": {
    "colab": {
      "provenance": []
    },
    "kernelspec": {
      "name": "python3",
      "display_name": "Python 3"
    },
    "language_info": {
      "name": "python"
    },
    "accelerator": "GPU"
  },
  "cells": [
    {
      "cell_type": "markdown",
      "source": [
        "# Mid-semester assignment Part 1 - Basics of deep learning\n",
        "Hello dear students,<br> this is the template notebook. Please copy it into your drive and open as Google Colab nootebook\".\n",
        "\n",
        "---\n",
        "<br>\n",
        "\n",
        "### Name and ID:\n",
        "Student 1: Ofir Almog 207918731\n",
        "<br>\n",
        "Student 2: Adir Edri 206991762"
      ],
      "metadata": {
        "collapsed": false,
        "pycharm": {
          "name": "#%% md\n"
        },
        "id": "XDDbguyGU8Fs"
      }
    },
    {
      "cell_type": "markdown",
      "source": [
        "## Sign Language Digits With NumPy\n",
        "Sign Language Digits dataset contains 5,000 grayscale images in 10 categories. The images show individual articles of hand sign at low resolution (28 by 28 pixels), as seen here:\n",
        "\n",
        "<table>\n",
        "  <tr><td>\n",
        "    <img src=\"https://www.researchgate.net/publication/344389112/figure/fig8/AS:941467451260937@1601474740275/Sample-images-from-ASL-with-digits-dataset.png\"\n",
        "         alt=\"Fashion MNIST sprite\"  width=\"600\">\n",
        "  </td></tr>\n",
        "  \n",
        "</table>\n",
        "\n"
      ],
      "metadata": {
        "id": "JLkWLC8f3HZI"
      }
    },
    {
      "cell_type": "markdown",
      "source": [
        "\n",
        "\n",
        "The images are 28x28 NumPy arrays, with pixel values ranging between 0 and 255. The *labels* are an array of numbers ranging from '0' to '9'. These correspond to the *class* of hand sign digit the image represents:\n",
        "\n",
        "<table>\n",
        "  <tr>\n",
        "    <th>Label</th>\n",
        "    <th>Class</th>\n",
        "  </tr>\n",
        "  <tr>\n",
        "    <td>0</td>\n",
        "    <td>Hand Sign Zero</td>\n",
        "  </tr>\n",
        "  <tr>\n",
        "    <td>1</td>\n",
        "    <td>Hand Sign One</td>\n",
        "  </tr>\n",
        "    <tr>\n",
        "    <td>2</td>\n",
        "    <td>Hand Sign Two</td>\n",
        "  </tr>\n",
        "    <tr>\n",
        "    <td>3</td>\n",
        "    <td>Hand Sign Three</td>\n",
        "  </tr>\n",
        "    <tr>\n",
        "    <td>4</td>\n",
        "    <td>Hand Sign Four</td>\n",
        "  </tr>\n",
        "    <tr>\n",
        "    <td>5</td>\n",
        "    <td>Hand Sign Five</td>\n",
        "  </tr>\n",
        "    <tr>\n",
        "    <td>6</td>\n",
        "    <td>Hand Sign Six</td>\n",
        "  </tr>\n",
        "    <tr>\n",
        "    <td>7</td>\n",
        "    <td>Hand Sign Seven</td>\n",
        "  </tr>\n",
        "    <tr>\n",
        "    <td>8</td>\n",
        "    <td>Hand Sign Eight</td>\n",
        "  </tr>\n",
        "    <tr>\n",
        "    <td>9</td>\n",
        "    <td>Hand Sign Nine</td>\n",
        "  </tr>\n",
        "</table>\n",
        "\n",
        "<br>\n",
        "\n",
        "# Goodluck!"
      ],
      "metadata": {
        "id": "WiRxNFCn3Vxd"
      }
    },
    {
      "cell_type": "markdown",
      "source": [
        "#Neural Network in plain NumPy"
      ],
      "metadata": {
        "collapsed": false,
        "id": "4K84YZ_QU8Fv"
      }
    },
    {
      "cell_type": "markdown",
      "source": [
        "## Import Libraries"
      ],
      "metadata": {
        "id": "QReFpU112hLT"
      }
    },
    {
      "cell_type": "markdown",
      "source": [
        "Import essential libraries for data processing, neural network implementation and visualization. These libraries will provide the foundation for building our sign language classifier from scratch."
      ],
      "metadata": {
        "id": "yDUy66cNM1O9"
      }
    },
    {
      "cell_type": "code",
      "source": [
        "import numpy as np\n",
        "import matplotlib\n",
        "import matplotlib.pyplot as plt\n",
        "from sklearn.datasets import fetch_openml\n",
        "from sklearn.metrics import classification_report, confusion_matrix, accuracy_score\n",
        "import seaborn as sns"
      ],
      "metadata": {
        "pycharm": {
          "name": "#%%\n"
        },
        "id": "tLOHjUiFU8Fv"
      },
      "execution_count": null,
      "outputs": []
    },
    {
      "cell_type": "markdown",
      "source": [
        "## Dwonload Dataset"
      ],
      "metadata": {
        "id": "D5MsCpUv2tuj"
      }
    },
    {
      "cell_type": "code",
      "source": [
        "%%capture\n",
        "!pip install ipython-autotime\n",
        "!pip install -U --no-cache-dir gdown --pre\n",
        "!gdown --id 1-0fhqH8tXKPb60C_b4aUHT7f-J4O6Ezq\n",
        "%load_ext autotime"
      ],
      "metadata": {
        "id": "SiM-d_4cV1aZ",
        "colab": {
          "base_uri": "https://localhost:8080/"
        },
        "outputId": "15ceaf25-7092-4a94-a878-f05b1c3f6f76"
      },
      "execution_count": null,
      "outputs": [
        {
          "output_type": "stream",
          "name": "stdout",
          "text": [
            "time: 503 µs (started: 2024-12-24 14:53:36 +00:00)\n"
          ]
        }
      ]
    },
    {
      "cell_type": "markdown",
      "source": [
        "Loading the dataset as NumPy arrays:\n",
        "\n",
        "* The `dataset` file is a NumPy array containing the image pixles. As you can see, it includes 5,000 rows for each image and 784 columns for each pixel in the image (28x28).\n",
        "* The `labels` file is a NumPy array containing the images labels. As you can see, it includes 5,000 rows for each image corresponding to the dataset."
      ],
      "metadata": {
        "id": "uj30jTHwXNXp"
      }
    },
    {
      "cell_type": "code",
      "source": [
        "loaded_data = np.load('/content/dataset_labels.npz')\n",
        "X, y = loaded_data['dataset'], loaded_data['labels']\n",
        "print(f'Dataset shape: {X.shape}\\nLabels shape: {y.shape}')"
      ],
      "metadata": {
        "id": "nbzv9ZYA2pyW",
        "colab": {
          "base_uri": "https://localhost:8080/"
        },
        "outputId": "f1b47984-c220-493e-857f-b95c076edf78"
      },
      "execution_count": null,
      "outputs": [
        {
          "output_type": "stream",
          "name": "stdout",
          "text": [
            "Dataset shape: (5000, 784)\n",
            "Labels shape: (5000,)\n",
            "time: 47.1 ms (started: 2024-12-24 14:53:36 +00:00)\n"
          ]
        }
      ]
    },
    {
      "cell_type": "markdown",
      "metadata": {
        "id": "GPBGGKtSoVpU"
      },
      "source": [
        "## Data preprocessing (10%)"
      ]
    },
    {
      "cell_type": "markdown",
      "metadata": {
        "id": "LZfq8otp-wXY"
      },
      "source": [
        "### Feature scaling"
      ]
    },
    {
      "cell_type": "markdown",
      "source": [
        "Preprocessing the input data by normalizing the pixel values ​​to the range [0,1] and reshaping matrices for efficient computation in our neural network."
      ],
      "metadata": {
        "id": "Kv-745PyNqzm"
      }
    },
    {
      "cell_type": "code",
      "metadata": {
        "id": "7MZtZIzzDIKe",
        "colab": {
          "base_uri": "https://localhost:8080/"
        },
        "outputId": "2d4cfc19-972d-4fd8-eb18-b31777bd38e6"
      },
      "source": [
        "examples = y.shape[0]\n",
        "y1 = y.reshape(1, examples)\n",
        "X1 = X / 255\n",
        "X1 = X1.T\n",
        "print(X1.shape)"
      ],
      "execution_count": null,
      "outputs": [
        {
          "output_type": "stream",
          "name": "stdout",
          "text": [
            "(784, 5000)\n",
            "time: 10.4 ms (started: 2024-12-24 14:53:36 +00:00)\n"
          ]
        }
      ]
    },
    {
      "cell_type": "markdown",
      "metadata": {
        "id": "i6K01j7A_Z4W"
      },
      "source": [
        "### Select two classes"
      ]
    },
    {
      "cell_type": "markdown",
      "source": [
        "Selecting two specific classes from our sign language dataset (6 and 7) and preparing them for binary classification by converting them to 0/1 labels. This step creates the basis for our neural network that will distinguish between these two hand signs."
      ],
      "metadata": {
        "id": "YOKjhu0LNsVf"
      }
    },
    {
      "cell_type": "code",
      "metadata": {
        "id": "7OuPZ0o8DNWq",
        "colab": {
          "base_uri": "https://localhost:8080/"
        },
        "outputId": "baf80bff-40ea-455c-f7a6-a8c19b432445"
      },
      "source": [
        "#TODO: select two classes (for example 2-Pullover and 4-Coat)\n",
        "print(\"Original label values:\", np.unique(y1))\n",
        "\n",
        "# Create masks from original labels y1\n",
        "class_6_indices = (y1[0] == '6')\n",
        "class_7_indices = (y1[0] == '7')\n",
        "\n",
        "# Select data and labels\n",
        "X = X1[:, class_6_indices | class_7_indices]\n",
        "Y = y1[:, class_6_indices | class_7_indices]\n",
        "\n",
        "# Convert to binary labels\n",
        "Y = (Y == '7').astype(int)\n",
        "\n",
        "print(\"\\nAfter selection:\")\n",
        "print(\"X shape:\", X.shape)\n",
        "print(\"Y shape:\", Y.shape)\n",
        "print(\"Binary label distribution:\", np.unique(Y, return_counts=True))"
      ],
      "execution_count": null,
      "outputs": [
        {
          "output_type": "stream",
          "name": "stdout",
          "text": [
            "Original label values: ['0' '1' '2' '3' '4' '5' '6' '7' '8' '9']\n",
            "\n",
            "After selection:\n",
            "X shape: (784, 1000)\n",
            "Y shape: (1, 1000)\n",
            "Binary label distribution: (array([0, 1]), array([500, 500]))\n",
            "time: 11.4 ms (started: 2024-12-24 14:53:36 +00:00)\n"
          ]
        }
      ]
    },
    {
      "cell_type": "markdown",
      "metadata": {
        "id": "cn5UPcIQH2jS"
      },
      "source": [
        "### Split the data into Train set and Test set"
      ]
    },
    {
      "cell_type": "markdown",
      "source": [
        "Splitting the data into training (80%) and test (20%) sets while maintaining class balance. This ensures our model will learn and be evaluated on representative samples of both hand signs."
      ],
      "metadata": {
        "id": "FrAUyh2WN_QG"
      }
    },
    {
      "cell_type": "code",
      "metadata": {
        "id": "FBUI2DZmhd0y",
        "colab": {
          "base_uri": "https://localhost:8080/"
        },
        "outputId": "1529645d-0e30-4cc8-e84f-a00335c951d2"
      },
      "source": [
        "# TODO: Split the data into Train set and Test set (The use of libraries other than Numpy is strictly prohibited)\n",
        "from sklearn.utils import shuffle\n",
        "\n",
        "X = X.T  # transpose\n",
        "Y = Y.ravel()  # flat multi dimension array into 1 dimensional\n",
        "\n",
        "# data balance before split\n",
        "print(\"\\nCheck data balance before split:\")\n",
        "print(\"Original Y values distribution:\", np.unique(Y, return_counts=True))\n",
        "\n",
        "# Get indices for each class\n",
        "class_0_indices = np.where(Y == 0)[0]\n",
        "class_1_indices = np.where(Y == 1)[0]\n",
        "\n",
        "# Split each class separately (80% train, 20% test)\n",
        "train_0 = class_0_indices[:int(0.8 * len(class_0_indices))] #select all elements from start until index at 80% of the length\n",
        "test_0 = class_0_indices[int(0.8 * len(class_0_indices)):] #select all elements from index at 80% of the length until end\n",
        "train_1 = class_1_indices[:int(0.8 * len(class_1_indices))]\n",
        "test_1 = class_1_indices[int(0.8 * len(class_1_indices)):]\n",
        "\n",
        "# Combine indices\n",
        "train_indices = np.concatenate([train_0, train_1])\n",
        "test_indices = np.concatenate([test_0, test_1])\n",
        "\n",
        "# Create train and test sets\n",
        "X_train = X[train_indices].T\n",
        "X_test = X[test_indices].T\n",
        "Y_train = Y[train_indices].reshape(-1, 1)\n",
        "Y_test = Y[test_indices].reshape(-1, 1)\n",
        "\n",
        "print(\"\\nClass distribution in training set:\")\n",
        "print(\"Y_train unique values and counts:\", np.unique(Y_train, return_counts=True))\n",
        "print(\"\\nClass distribution in test set:\")\n",
        "print(\"Y_test unique values and counts:\", np.unique(Y_test, return_counts=True))"
      ],
      "execution_count": null,
      "outputs": [
        {
          "output_type": "stream",
          "name": "stdout",
          "text": [
            "\n",
            "Check data balance before split:\n",
            "Original Y values distribution: (array([0, 1]), array([500, 500]))\n",
            "\n",
            "Class distribution in training set:\n",
            "Y_train unique values and counts: (array([0, 1]), array([400, 400]))\n",
            "\n",
            "Class distribution in test set:\n",
            "Y_test unique values and counts: (array([0, 1]), array([100, 100]))\n",
            "time: 10.1 ms (started: 2024-12-24 14:53:36 +00:00)\n"
          ]
        }
      ]
    },
    {
      "cell_type": "code",
      "metadata": {
        "id": "wkLl0PSyDR9S",
        "colab": {
          "base_uri": "https://localhost:8080/",
          "height": 441
        },
        "outputId": "f27c02ec-3a62-4f2c-e135-7445acf2988e"
      },
      "source": [
        "# Test yourself (Check that the classes you have selected are actually displayed)\n",
        "%matplotlib inline\n",
        "from numpy import random\n",
        "\n",
        "i = random.randint(100)\n",
        "plt.imshow(X_train[:,i].reshape(28,28), cmap = matplotlib.cm.binary)\n",
        "plt.axis(\"off\")\n",
        "plt.show()\n",
        "Y_train[i,0]"
      ],
      "execution_count": null,
      "outputs": [
        {
          "output_type": "display_data",
          "data": {
            "text/plain": [
              "<Figure size 640x480 with 1 Axes>"
            ],
            "image/png": "[encoded data removed]"
          },
          "metadata": {}
        },
        {
          "output_type": "execute_result",
          "data": {
            "text/plain": [
              "0"
            ]
          },
          "metadata": {},
          "execution_count": 7
        },
        {
          "output_type": "stream",
          "name": "stdout",
          "text": [
            "time: 116 ms (started: 2024-12-24 14:53:36 +00:00)\n"
          ]
        }
      ]
    },
    {
      "cell_type": "markdown",
      "metadata": {
        "id": "Q81OW5M7oCWZ"
      },
      "source": [
        "## Activation functions (10%)"
      ]
    },
    {
      "cell_type": "markdown",
      "source": [
        "Implemening the sigmoid activation function which will help our network learn non-linear patterns in the hand sign images and output probabilities between 0 and 1."
      ],
      "metadata": {
        "id": "GWh_NmY5O6QJ"
      }
    },
    {
      "cell_type": "code",
      "source": [],
      "metadata": {
        "id": "AE4gzqu4BnDT",
        "colab": {
          "base_uri": "https://localhost:8080/"
        },
        "outputId": "6ad41b9d-879e-4ce5-cc87-f0c236eb675d"
      },
      "execution_count": null,
      "outputs": [
        {
          "output_type": "stream",
          "name": "stdout",
          "text": [
            "time: 126 ms (started: 2024-12-24 14:53:36 +00:00)\n"
          ]
        }
      ]
    },
    {
      "cell_type": "code",
      "metadata": {
        "id": "nxruxXBsDmP-",
        "colab": {
          "base_uri": "https://localhost:8080/"
        },
        "outputId": "15233e0f-2998-4c64-eaa0-a928c6bd16d7"
      },
      "source": [
        "#TODO: Sigmoid activation function\n",
        "def sigmoid(z):\n",
        "    return 1 / (1 + np.exp(-z))"
      ],
      "execution_count": null,
      "outputs": [
        {
          "output_type": "stream",
          "name": "stdout",
          "text": [
            "time: 699 µs (started: 2024-12-24 14:53:36 +00:00)\n"
          ]
        }
      ]
    },
    {
      "cell_type": "markdown",
      "metadata": {
        "id": "OBIAUcVboOG9"
      },
      "source": [
        "## Loss Function (10%)\n",
        "\n",
        "The BCE Loss function embodies the idea that the neural network should incur a substantial penalty (i.e., Loss tending toward infinity) when the predicted probability diverges significantly from the actual label of the training example. Conversely, the Loss should be zero (Loss = 0) when the predicted probability aligns perfectly with the label of the training example. In simpler terms, the BCE Loss should be zero in the following two situations:\n",
        "\n",
        "- When the example has a positive label (${y} = 1$), the neural network should be entirely confident that the example belongs to the positive class, i.e., ($\\hat{p} = 1 $).\n",
        "- When the example has a negative label (${y} = 0$), the neural network should be entirely confident that the example does not belong to the positive class, i.e., ($\\hat{p} = 0 $).\n",
        "\n",
        "**It's important to note that when working with computers, extremely high or low values can sometimes be unmanageable and might even lead to system crashes. To address this, you must be aware of the range of values that cause the logarithm to yield infinity or negative infinity. Ensure you handle these edge cases within your function.**\n"
      ]
    },
    {
      "cell_type": "markdown",
      "source": [
        "Defining the Binary Cross Entropy loss function to measure how well our network is learning to distinguish between the two hand signs during training."
      ],
      "metadata": {
        "id": "FUVIKrnRPycz"
      }
    },
    {
      "cell_type": "code",
      "metadata": {
        "id": "U0i2o9_KDUdQ",
        "colab": {
          "base_uri": "https://localhost:8080/"
        },
        "outputId": "874ab190-0dd5-4511-ca60-7387507d3672"
      },
      "source": [
        "#TODO: Binary cross entropy\n",
        "def log_loss(y_hat, y):\n",
        "    '''\n",
        "    Logistic loss, assuming a single value in y_hat and y.\n",
        "    '''\n",
        "    epsilon = 1e-15  # avoid log(0)\n",
        "    y_hat = np.clip(y_hat, epsilon, 1 - epsilon)\n",
        "    return float((-y * np.log(y_hat) - (1 - y) * np.log(1 - y_hat)).item())"
      ],
      "execution_count": null,
      "outputs": [
        {
          "output_type": "stream",
          "name": "stdout",
          "text": [
            "time: 530 µs (started: 2024-12-24 14:53:36 +00:00)\n"
          ]
        }
      ]
    },
    {
      "cell_type": "markdown",
      "metadata": {
        "id": "WY9DQPrJmvHZ"
      },
      "source": [
        "## NN Hyper Parameters"
      ]
    },
    {
      "cell_type": "markdown",
      "source": [
        "Set up neural network architecture parameters including input layer (784 neurons for 28x28 images), hidden layer size, and training hyperparameters for optimal learning."
      ],
      "metadata": {
        "id": "V4fvClSIQB6S"
      }
    },
    {
      "cell_type": "code",
      "metadata": {
        "id": "qGCU_QYRnJap",
        "colab": {
          "base_uri": "https://localhost:8080/"
        },
        "outputId": "6aadd54d-6bac-4d6d-c454-4b41736b789c"
      },
      "source": [
        "input_layer = X_train.shape[0] # 28X28 = 784\n",
        "hidden_layer = 64\n",
        "learning_rate = 0.01\n",
        "epochs = 40"
      ],
      "execution_count": null,
      "outputs": [
        {
          "output_type": "stream",
          "name": "stdout",
          "text": [
            "time: 445 µs (started: 2024-12-24 14:53:36 +00:00)\n"
          ]
        }
      ]
    },
    {
      "cell_type": "markdown",
      "metadata": {
        "id": "M6SdHpc2m3vV"
      },
      "source": [
        "## Weight and Bias Initialization"
      ]
    },
    {
      "cell_type": "markdown",
      "source": [
        "Initialize network weights and biases with random and zero values respectively. This helps break symmetry and allows the network to learn diverse features from the hand sign images."
      ],
      "metadata": {
        "id": "tK6oz-DUSxEI"
      }
    },
    {
      "cell_type": "code",
      "metadata": {
        "id": "IVRoMGxTnLZI",
        "colab": {
          "base_uri": "https://localhost:8080/"
        },
        "outputId": "756ec703-e339-4216-ac61-c8d56739c77b"
      },
      "source": [
        "W1 = np.random.randn(hidden_layer, input_layer)\n",
        "b1 = np.zeros((hidden_layer, 1))\n",
        "W2 = np.random.randn(1, hidden_layer)\n",
        "b2 = np.zeros((1, 1))\n",
        "\n",
        "print(W1.shape)\n",
        "print(b1.shape)\n",
        "print(W2.shape)\n",
        "print(b2.shape)"
      ],
      "execution_count": null,
      "outputs": [
        {
          "output_type": "stream",
          "name": "stdout",
          "text": [
            "(64, 784)\n",
            "(64, 1)\n",
            "(1, 64)\n",
            "(1, 1)\n",
            "time: 3.27 ms (started: 2024-12-24 14:53:36 +00:00)\n"
          ]
        }
      ]
    },
    {
      "cell_type": "markdown",
      "metadata": {
        "id": "fp-IaWECn6Hu"
      },
      "source": [
        "## Training (30%)"
      ]
    },
    {
      "cell_type": "markdown",
      "source": [
        "Begin the training process by iterating through epochs and examples. During each iteration, we perform forward propagation, calculate loss, and update weights using backpropagation."
      ],
      "metadata": {
        "id": "VOtkFwpbTUDJ"
      }
    },
    {
      "cell_type": "code",
      "metadata": {
        "id": "4tdlcCGLDo7F",
        "colab": {
          "base_uri": "https://localhost:8080/"
        },
        "outputId": "31e4d722-95a5-448a-b79c-4f80daa2a798"
      },
      "source": [
        "X = X_train\n",
        "Y = Y_train\n",
        "loss_list = []\n",
        "epoch_list = []\n",
        "num_of_examples = X.shape[1]\n",
        "\n",
        "for i in range(epochs):\n",
        "  avg_epoch_loss = 0\n",
        "  for j in range(num_of_examples):\n",
        "    # TODO :  Forward propagation\n",
        "\n",
        "    Z1 = np.matmul(W1, X[:,j].reshape(-1,1)) + b1\n",
        "    A1 = sigmoid(Z1)\n",
        "    Z2 = np.matmul(W2, A1) + b2\n",
        "    A2 = sigmoid(Z2)\n",
        "    Yout = Y[j].reshape(-1,1)\n",
        "\n",
        "    # TODO: Compute loss\n",
        "    loss = log_loss( A2, Yout)\n",
        "    avg_epoch_loss = avg_epoch_loss + loss\n",
        "\n",
        "    # # TODO: Back propagation\n",
        "    dZ2 = (A2-Yout)\n",
        "    dW2 = np.matmul(dZ2, A1.T)\n",
        "    db2 = np.sum(dZ2, axis=1, keepdims=True)\n",
        "\n",
        "    dA1 = np.matmul(W2.T, dZ2)\n",
        "    dZ1 = dA1 * (A1 * (1-A1))\n",
        "    dW1 = np.matmul(dZ1, X[:,j].reshape(1,-1))\n",
        "    db1 = np.sum(dZ1, axis=1, keepdims=True)\n",
        "\n",
        "    # TODO: Update weights\n",
        "    W2 = W2 - learning_rate * dW2\n",
        "    b2 = b2 - learning_rate * db2\n",
        "    W1 = W1 - learning_rate * dW1\n",
        "    b1 = b1 - learning_rate * db1\n",
        "\n",
        "  avg_epoch_loss = avg_epoch_loss/num_of_examples\n",
        "  loss_list.append(avg_epoch_loss)\n",
        "  epoch_list.append(i)\n",
        "  print(\"Epoch\", i,\" Loss:\", avg_epoch_loss)"
      ],
      "execution_count": null,
      "outputs": [
        {
          "output_type": "stream",
          "name": "stdout",
          "text": [
            "Epoch 0  Loss: 0.1773944806712482\n",
            "Epoch 1  Loss: 0.21770675278237403\n",
            "Epoch 2  Loss: 0.18184279420430458\n",
            "Epoch 3  Loss: 0.15822405464308412\n",
            "Epoch 4  Loss: 0.1399515611778258\n",
            "Epoch 5  Loss: 0.12512275595087383\n",
            "Epoch 6  Loss: 0.113151397848427\n",
            "Epoch 7  Loss: 0.10367859565678811\n",
            "Epoch 8  Loss: 0.09628224164652459\n",
            "Epoch 9  Loss: 0.09042885830572853\n",
            "Epoch 10  Loss: 0.08564772220817568\n",
            "Epoch 11  Loss: 0.08161736347040506\n",
            "Epoch 12  Loss: 0.07813256740933372\n",
            "Epoch 13  Loss: 0.07505800080292734\n",
            "Epoch 14  Loss: 0.07229798876568061\n",
            "Epoch 15  Loss: 0.06978093637270869\n",
            "Epoch 16  Loss: 0.06745230628591942\n",
            "Epoch 17  Loss: 0.0652712933444213\n",
            "Epoch 18  Loss: 0.06320849618510913\n",
            "Epoch 19  Loss: 0.0612435730945992\n",
            "Epoch 20  Loss: 0.05936280022914055\n",
            "Epoch 21  Loss: 0.057556817384504584\n",
            "Epoch 22  Loss: 0.055818876198522986\n",
            "Epoch 23  Loss: 0.0541437460430014\n",
            "Epoch 24  Loss: 0.05252721519522524\n",
            "Epoch 25  Loss: 0.050965972402454346\n",
            "Epoch 26  Loss: 0.049457623174140875\n",
            "Epoch 27  Loss: 0.04800065867537231\n",
            "Epoch 28  Loss: 0.04659429397147826\n",
            "Epoch 29  Loss: 0.04523818502358202\n",
            "Epoch 30  Loss: 0.0439320986150525\n",
            "Epoch 31  Loss: 0.04267563034630605\n",
            "Epoch 32  Loss: 0.04146803752811654\n",
            "Epoch 33  Loss: 0.040308196081405824\n",
            "Epoch 34  Loss: 0.03919464155010874\n",
            "Epoch 35  Loss: 0.038125640638104794\n",
            "Epoch 36  Loss: 0.037099257622721864\n",
            "Epoch 37  Loss: 0.03611340681340675\n",
            "Epoch 38  Loss: 0.03516589875668161\n",
            "Epoch 39  Loss: 0.034254489527735535\n",
            "time: 29.3 s (started: 2024-12-24 14:53:36 +00:00)\n"
          ]
        }
      ]
    },
    {
      "cell_type": "markdown",
      "metadata": {
        "id": "TdgCk97534-B"
      },
      "source": [
        "### Loss Visualization"
      ]
    },
    {
      "cell_type": "markdown",
      "source": [
        "Visualize the loss curve over training epochs to monitor network's learning progress and convergence. This plot helps us assess if the network is learning effectively and identify potential issues like overfitting or slow convergence."
      ],
      "metadata": {
        "id": "wfr0HNC3VX8c"
      }
    },
    {
      "cell_type": "code",
      "metadata": {
        "id": "RFo9NN5Q31X8",
        "colab": {
          "base_uri": "https://localhost:8080/",
          "height": 486
        },
        "outputId": "c8db78cd-d953-4b6d-fda8-859ab3849c8b"
      },
      "source": [
        "plt.xlabel('Epoch Number')\n",
        "plt.ylabel(\"Loss\")\n",
        "plt.plot(epoch_list, loss_list)"
      ],
      "execution_count": null,
      "outputs": [
        {
          "output_type": "execute_result",
          "data": {
            "text/plain": [
              "[<matplotlib.lines.Line2D at 0x79788dbda290>]"
            ]
          },
          "metadata": {},
          "execution_count": 13
        },
        {
          "output_type": "display_data",
          "data": {
            "text/plain": [
              "<Figure size 640x480 with 1 Axes>"
            ],
            "image/png": "[encoded data removed]"
          },
          "metadata": {}
        },
        {
          "output_type": "stream",
          "name": "stdout",
          "text": [
            "time: 344 ms (started: 2024-12-24 14:54:05 +00:00)\n"
          ]
        }
      ]
    },
    {
      "cell_type": "markdown",
      "source": [
        "## Results"
      ],
      "metadata": {
        "id": "5HV5g7j92Xfn"
      }
    },
    {
      "cell_type": "markdown",
      "metadata": {
        "id": "raBFclM5ploH"
      },
      "source": [
        "### Test your performance (20%)"
      ]
    },
    {
      "cell_type": "markdown",
      "source": [
        "Evaluating the model's performance on the test set by making predictions and comparing them with real labels. This helps us assess how well our network generalizes to new images of hand signs.\n",
        "\n",
        "We then generated the confusion matrix and accuracy metrics. This provides detailed insights into the classification performance of our model for both hand signals. finally, detailed confusion matrix statistics are presented to understand the strengths and weaknesses of the model in recognizing different hand signs.\n",
        "\n"
      ],
      "metadata": {
        "id": "P32I313IULnC"
      }
    },
    {
      "cell_type": "code",
      "metadata": {
        "id": "flfh-luxDs7Z",
        "colab": {
          "base_uri": "https://localhost:8080/",
          "height": 729
        },
        "outputId": "24414bd5-008e-4cd8-98ac-89aafb6a74b6"
      },
      "source": [
        "#TODO: Forward batch of examples\n",
        "X = X_test\n",
        "Y = Y_test\n",
        "\n",
        "Z1 = np.matmul(W1, X_test) + b1\n",
        "A1 = sigmoid(Z1)\n",
        "Z2 = np.matmul(W2, A1) + b2\n",
        "A2 = sigmoid(Z2)\n",
        "\n",
        "predictions = np.zeros((1,Y.shape[0]))\n",
        "labels = np.zeros((1,Y.shape[0]))\n",
        "\n",
        "# Check your predictions against the test's labels\n",
        "for i in range(Y.shape[0]):\n",
        "  if (A2[0,i] > 0.5):\n",
        "    predictions[0,i] = 1\n",
        "  labels[0,i] = Y[i,0]\n",
        "\n",
        "# Calculate confusion matrix\n",
        "cm = confusion_matrix(predictions.T, labels.T)\n",
        "\n",
        "# Calculate accuracy\n",
        "accuracy = accuracy_score(labels.T, predictions.T)\n",
        "print(f\"Accuracy: {accuracy * 100:.2f} %\")\n",
        "\n",
        "# Visualize confusion matrix\n",
        "plt.figure(figsize=(8,6))\n",
        "sns.heatmap(cm, annot=True, fmt='d', cmap='Blues',\n",
        "            xticklabels=['Predicted Negative', 'Predicted Positive'],\n",
        "            yticklabels=['Actual Negative', 'Actual Positive'])\n",
        "plt.title('Confusion Matrix')\n",
        "plt.xlabel('Predicted Label')\n",
        "plt.ylabel('True Label')\n",
        "plt.tight_layout()\n",
        "plt.show()\n",
        "\n",
        "# Print confusion matrix details\n",
        "print(\"Confusion Matrix:\")\n",
        "print(f\"True Negatives (TN): {cm[0,0]}\")\n",
        "print(f\"False Positives (FP): {cm[0,1]}\")\n",
        "print(f\"False Negatives (FN): {cm[1,0]}\")\n",
        "print(f\"True Positives (TP): {cm[1,1]}\")"
      ],
      "execution_count": null,
      "outputs": [
        {
          "output_type": "stream",
          "name": "stdout",
          "text": [
            "Accuracy: 92.50 %\n"
          ]
        },
        {
          "output_type": "display_data",
          "data": {
            "text/plain": [
              "<Figure size 800x600 with 2 Axes>"
            ],
            "image/png": "[encoded data removed]"
          },
          "metadata": {}
        },
        {
          "output_type": "stream",
          "name": "stdout",
          "text": [
            "Confusion Matrix:\n",
            "True Negatives (TN): 85\n",
            "False Positives (FP): 0\n",
            "False Negatives (FN): 15\n",
            "True Positives (TP): 100\n",
            "time: 521 ms (started: 2024-12-24 14:54:06 +00:00)\n"
          ]
        }
      ]
    },
    {
      "cell_type": "markdown",
      "source": [
        "### Visualize the results"
      ],
      "metadata": {
        "id": "7FtZr0EQBlcm"
      }
    },
    {
      "cell_type": "markdown",
      "source": [
        "Visualize model predictions on randomly selected test examples, showing both the input image and the model's confidence in its prediction. This helps us intuitively understand how well our network recognizes different hand sign variations."
      ],
      "metadata": {
        "id": "LZRQbUY6VDlE"
      }
    },
    {
      "cell_type": "code",
      "metadata": {
        "id": "gAj_5W2wVUrI",
        "colab": {
          "base_uri": "https://localhost:8080/",
          "height": 1000
        },
        "outputId": "77c9c024-fbad-4987-a3e4-c1157edbb540"
      },
      "source": [
        "#TODO: SHOW VISUALLY RESULTS ON 10 TEST EXAMPLES\n",
        "%matplotlib inline\n",
        "from numpy import random\n",
        "for example in range(10):\n",
        "  i = random.randint(200)\n",
        "  plt.imshow(X_test[:,i].reshape(28,28), cmap = matplotlib.cm.binary)\n",
        "  plt.axis(\"off\")\n",
        "  plt.show()\n",
        "  Y_test[i,0]\n",
        "\n",
        "  # TODO :  Forward propagation\n",
        "  Z1 = np.matmul(W1,X_test[:,i])\n",
        "  A1 = sigmoid(Z1)\n",
        "  Z2 = np.matmul(W2, A1) + b2\n",
        "  A2 = sigmoid(Z2)\n",
        "  Yout = Y[i,0]\n",
        "  print(\"Real=\", Y_test[i,0], \"Predicted=\",A2)"
      ],
      "execution_count": null,
      "outputs": [
        {
          "output_type": "display_data",
          "data": {
            "text/plain": [
              "<Figure size 640x480 with 1 Axes>"
            ],
            "image/png": "[encoded data removed]"
          },
          "metadata": {}
        },
        {
          "output_type": "stream",
          "name": "stdout",
          "text": [
            "Real= 1 Predicted= [[0.99956035]]\n"
          ]
        },
        {
          "output_type": "display_data",
          "data": {
            "text/plain": [
              "<Figure size 640x480 with 1 Axes>"
            ],
            "image/png": "[encoded data removed]"
          },
          "metadata": {}
        },
        {
          "output_type": "stream",
          "name": "stdout",
          "text": [
            "Real= 1 Predicted= [[0.99808552]]\n"
          ]
        },
        {
          "output_type": "display_data",
          "data": {
            "text/plain": [
              "<Figure size 640x480 with 1 Axes>"
            ],
            "image/png": "[encoded data removed]"
          },
          "metadata": {}
        },
        {
          "output_type": "stream",
          "name": "stdout",
          "text": [
            "Real= 1 Predicted= [[0.99969255]]\n"
          ]
        },
        {
          "output_type": "display_data",
          "data": {
            "text/plain": [
              "<Figure size 640x480 with 1 Axes>"
            ],
            "image/png": "[encoded data removed]"
          },
          "metadata": {}
        },
        {
          "output_type": "stream",
          "name": "stdout",
          "text": [
            "Real= 1 Predicted= [[0.99599576]]\n"
          ]
        },
        {
          "output_type": "display_data",
          "data": {
            "text/plain": [
              "<Figure size 640x480 with 1 Axes>"
            ],
            "image/png": "[encoded data removed]"
          },
          "metadata": {}
        },
        {
          "output_type": "stream",
          "name": "stdout",
          "text": [
            "Real= 0 Predicted= [[0.32730639]]\n"
          ]
        },
        {
          "output_type": "display_data",
          "data": {
            "text/plain": [
              "<Figure size 640x480 with 1 Axes>"
            ],
            "image/png": "[encoded data removed]"
          },
          "metadata": {}
        },
        {
          "output_type": "stream",
          "name": "stdout",
          "text": [
            "Real= 0 Predicted= [[0.03296863]]\n"
          ]
        },
        {
          "output_type": "display_data",
          "data": {
            "text/plain": [
              "<Figure size 640x480 with 1 Axes>"
            ],
            "image/png": "[encoded data removed]"
          },
          "metadata": {}
        },
        {
          "output_type": "stream",
          "name": "stdout",
          "text": [
            "Real= 0 Predicted= [[0.01030326]]\n"
          ]
        },
        {
          "output_type": "display_data",
          "data": {
            "text/plain": [
              "<Figure size 640x480 with 1 Axes>"
            ],
            "image/png": "[encoded data removed]"
          },
          "metadata": {}
        },
        {
          "output_type": "stream",
          "name": "stdout",
          "text": [
            "Real= 0 Predicted= [[0.04838763]]\n"
          ]
        },
        {
          "output_type": "display_data",
          "data": {
            "text/plain": [
              "<Figure size 640x480 with 1 Axes>"
            ],
            "image/png": "[encoded data removed]"
          },
          "metadata": {}
        },
        {
          "output_type": "stream",
          "name": "stdout",
          "text": [
            "Real= 1 Predicted= [[0.99993532]]\n"
          ]
        },
        {
          "output_type": "display_data",
          "data": {
            "text/plain": [
              "<Figure size 640x480 with 1 Axes>"
            ],
            "image/png": "[encoded data removed]"
          },
          "metadata": {}
        },
        {
          "output_type": "stream",
          "name": "stdout",
          "text": [
            "Real= 1 Predicted= [[0.98521096]]\n",
            "time: 1.14 s (started: 2024-12-24 14:54:06 +00:00)\n"
          ]
        }
      ]
    }
  ]
}